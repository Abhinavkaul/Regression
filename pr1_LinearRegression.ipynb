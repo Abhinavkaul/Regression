{
 "cells": [
  {
   "cell_type": "markdown",
   "id": "9170e6da",
   "metadata": {},
   "source": [
    "# Linear Regression"
   ]
  },
  {
   "cell_type": "code",
   "execution_count": 1,
   "id": "5b6ae49b",
   "metadata": {},
   "outputs": [],
   "source": [
    "import numpy as np\n",
    "import pandas as pd\n",
    "import matplotlib.pyplot as plt"
   ]
  },
  {
   "cell_type": "code",
   "execution_count": 2,
   "id": "b0e6ca91",
   "metadata": {},
   "outputs": [
    {
     "data": {
      "text/html": [
       "<div>\n",
       "<style scoped>\n",
       "    .dataframe tbody tr th:only-of-type {\n",
       "        vertical-align: middle;\n",
       "    }\n",
       "\n",
       "    .dataframe tbody tr th {\n",
       "        vertical-align: top;\n",
       "    }\n",
       "\n",
       "    .dataframe thead th {\n",
       "        text-align: right;\n",
       "    }\n",
       "</style>\n",
       "<table border=\"1\" class=\"dataframe\">\n",
       "  <thead>\n",
       "    <tr style=\"text-align: right;\">\n",
       "      <th></th>\n",
       "      <th># age</th>\n",
       "      <th>sex</th>\n",
       "      <th>bmi</th>\n",
       "      <th>bp</th>\n",
       "      <th>s1</th>\n",
       "      <th>s2</th>\n",
       "      <th>s3</th>\n",
       "      <th>s4</th>\n",
       "      <th>s5</th>\n",
       "      <th>s6</th>\n",
       "      <th>Y</th>\n",
       "    </tr>\n",
       "  </thead>\n",
       "  <tbody>\n",
       "    <tr>\n",
       "      <th>0</th>\n",
       "      <td>-0.049105</td>\n",
       "      <td>-0.044642</td>\n",
       "      <td>0.160855</td>\n",
       "      <td>-0.046985</td>\n",
       "      <td>-0.029088</td>\n",
       "      <td>-0.019790</td>\n",
       "      <td>-0.047082</td>\n",
       "      <td>0.034309</td>\n",
       "      <td>0.028017</td>\n",
       "      <td>0.011349</td>\n",
       "      <td>346.0</td>\n",
       "    </tr>\n",
       "    <tr>\n",
       "      <th>1</th>\n",
       "      <td>-0.070900</td>\n",
       "      <td>0.050680</td>\n",
       "      <td>-0.089197</td>\n",
       "      <td>-0.074528</td>\n",
       "      <td>-0.042848</td>\n",
       "      <td>-0.025739</td>\n",
       "      <td>-0.032356</td>\n",
       "      <td>-0.002592</td>\n",
       "      <td>-0.012908</td>\n",
       "      <td>-0.054925</td>\n",
       "      <td>104.0</td>\n",
       "    </tr>\n",
       "    <tr>\n",
       "      <th>2</th>\n",
       "      <td>0.001751</td>\n",
       "      <td>-0.044642</td>\n",
       "      <td>-0.070875</td>\n",
       "      <td>-0.022885</td>\n",
       "      <td>-0.001569</td>\n",
       "      <td>-0.001001</td>\n",
       "      <td>0.026550</td>\n",
       "      <td>-0.039493</td>\n",
       "      <td>-0.022512</td>\n",
       "      <td>0.007207</td>\n",
       "      <td>49.0</td>\n",
       "    </tr>\n",
       "  </tbody>\n",
       "</table>\n",
       "</div>"
      ],
      "text/plain": [
       "      # age       sex       bmi        bp        s1        s2        s3  \\\n",
       "0 -0.049105 -0.044642  0.160855 -0.046985 -0.029088 -0.019790 -0.047082   \n",
       "1 -0.070900  0.050680 -0.089197 -0.074528 -0.042848 -0.025739 -0.032356   \n",
       "2  0.001751 -0.044642 -0.070875 -0.022885 -0.001569 -0.001001  0.026550   \n",
       "\n",
       "         s4        s5        s6      Y  \n",
       "0  0.034309  0.028017  0.011349  346.0  \n",
       "1 -0.002592 -0.012908 -0.054925  104.0  \n",
       "2 -0.039493 -0.022512  0.007207   49.0  "
      ]
     },
     "execution_count": 2,
     "metadata": {},
     "output_type": "execute_result"
    }
   ],
   "source": [
    "a=pd.read_csv(\"D:\\\\college\\\\Coding Ninja AI\\\\26_Linear_Regression\\\\31_Assignment\\\\train.csv\")\n",
    "df=a.copy()\n",
    "df.head(3)"
   ]
  },
  {
   "cell_type": "code",
   "execution_count": 3,
   "id": "f2406752",
   "metadata": {},
   "outputs": [],
   "source": [
    "df=a.copy()\n",
    "x=np.array(df.iloc[:,:-1])\n",
    "y=np.array(df.iloc[:,-1])"
   ]
  },
  {
   "cell_type": "code",
   "execution_count": 4,
   "id": "337cf25f",
   "metadata": {},
   "outputs": [],
   "source": [
    "from sklearn import model_selection\n",
    "X_train,X_test,Y_train,Y_test=model_selection.train_test_split(x,y,test_size=0.0001)"
   ]
  },
  {
   "cell_type": "code",
   "execution_count": 5,
   "id": "59887fcc",
   "metadata": {},
   "outputs": [
    {
     "data": {
      "text/plain": [
       "LinearRegression()"
      ]
     },
     "execution_count": 5,
     "metadata": {},
     "output_type": "execute_result"
    }
   ],
   "source": [
    "from sklearn.linear_model import LinearRegression\n",
    "alg1=LinearRegression()\n",
    "alg1.fit(X_train,Y_train)"
   ]
  },
  {
   "cell_type": "code",
   "execution_count": 6,
   "id": "181cf335",
   "metadata": {},
   "outputs": [
    {
     "name": "stdout",
     "output_type": "stream",
     "text": [
      "[118.52959386]\n"
     ]
    }
   ],
   "source": [
    "y_pred = alg1.predict(X_test)\n",
    "print(y_pred)"
   ]
  },
  {
   "cell_type": "code",
   "execution_count": null,
   "id": "6dad57ae",
   "metadata": {},
   "outputs": [],
   "source": []
  },
  {
   "cell_type": "code",
   "execution_count": null,
   "id": "10449984",
   "metadata": {},
   "outputs": [],
   "source": []
  },
  {
   "cell_type": "code",
   "execution_count": 7,
   "id": "3e95672b",
   "metadata": {},
   "outputs": [],
   "source": [
    "train_table=pd.read_csv(\"D:\\\\college\\\\Coding Ninja AI\\\\26_Linear_Regression\\\\31_Assignment\\\\test.csv\")\n",
    "train_data=np.array(train_table.iloc[:,:])"
   ]
  },
  {
   "cell_type": "code",
   "execution_count": 8,
   "id": "8909ad7e",
   "metadata": {},
   "outputs": [
    {
     "name": "stdout",
     "output_type": "stream",
     "text": [
      "104.64877 , 178.48672 , 79.68333 , 52.75521 , 98.21510 , 150.43851 , 35.50718 , 112.80095 , 160.51556 , 135.36330 , 94.44726 , 137.54998 , 141.32624 , 158.64867 , 171.59004 , 106.06752 , 103.95648 , 95.85483 , 167.32767 , 166.35204 , 101.53552 , 252.40102 , 146.58214 , 214.97891 , 161.85902 , 210.60052 , 70.68665 , 189.39657 , 205.88349 , 220.10818 , 168.81538 , 116.29206 , 178.38901 , 75.91717 , 59.54328 , 111.39499 , 156.50257 , 153.95583 , 198.96606 , 115.07235 , 153.14559 , 84.65334 , 113.29487 , 142.40263 , 147.13397 , 82.40369 , 77.33128 , 128.75352 , 261.58741 , 213.14867 , 244.60379 , 167.92178 , 183.68942 , 166.97863 , 202.32708 , 220.21074 , 172.07381 , 176.23437 , 109.19656 , 276.77897 , 90.34848 , 289.79414 , 120.27267 , 75.18895 , 180.99967 , 145.89904 , 156.17358 , 40.57252 , 248.11203 , 208.08403 , 90.49509 , 222.39990 , 190.62180 , 181.84849 , 164.72905 , 190.30741 , 105.79022 , 199.64717 , 246.39228 , 122.91731 , 118.93792 , 145.98499 , 206.31539 , 151.19264 , 141.64346 , 154.64398 , 115.48416 , 134.01162 , 118.41557 , 203.36113 , 170.59479 , 126.28344 , 56.40024 , 232.64615 , 185.14728 , 187.49707 , 83.56567 , 185.96298 , 217.13551 , 108.13893 , 80.52209 , 127.27669 , 242.47249 , 156.31833 , 125.76797 , 246.61482 , 235.18774 , 190.97879 , 167.83231 , 162.41700 , "
     ]
    }
   ],
   "source": [
    "y_train_pred = alg1.predict(train_data)\n",
    "for i in y_train_pred:\n",
    "    print(\"{0:.5f}\".format(i),end=\" , \")"
   ]
  },
  {
   "cell_type": "code",
   "execution_count": null,
   "id": "12fc9699",
   "metadata": {},
   "outputs": [],
   "source": []
  }
 ],
 "metadata": {
  "kernelspec": {
   "display_name": "Python 3 (ipykernel)",
   "language": "python",
   "name": "python3"
  },
  "language_info": {
   "codemirror_mode": {
    "name": "ipython",
    "version": 3
   },
   "file_extension": ".py",
   "mimetype": "text/x-python",
   "name": "python",
   "nbconvert_exporter": "python",
   "pygments_lexer": "ipython3",
   "version": "3.9.7"
  }
 },
 "nbformat": 4,
 "nbformat_minor": 5
}
